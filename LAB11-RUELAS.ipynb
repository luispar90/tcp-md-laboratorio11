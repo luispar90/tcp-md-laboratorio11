{
 "cells": [
  {
   "cell_type": "markdown",
   "id": "f7b71ddb",
   "metadata": {},
   "source": [
    "# Sesión 11:  ALGORITMOS GENÉTICOS Y EVOLUCIÓN DE LA POBLACIÓN\n",
    "Realizado por:\n",
    "\n",
    "**- Ruelas Flores, César Diego**"
   ]
  },
  {
   "cell_type": "markdown",
   "id": "bd5ff634",
   "metadata": {},
   "source": [
    "### VARIABLES GLOBALES"
   ]
  },
  {
   "cell_type": "code",
   "execution_count": null,
   "id": "55e23362",
   "metadata": {},
   "outputs": [],
   "source": [
    "# !pip install polars numpy scikit-learn deap matplotlib"
   ]
  },
  {
   "cell_type": "code",
   "execution_count": null,
   "id": "9532c148",
   "metadata": {},
   "outputs": [],
   "source": [
    "# las variables globales se definirán en proceso de creación del lab\n",
    "URL = \"https://raw.githubusercontent.com/AzShet/Data_Mining-LAB11/refs/heads/develop/Advertising-1.csv\"\n",
    "COLUMNAS = [\"TV\", \"Radio\", \"Newspaper\"]\n",
    "\n",
    "import polars as pl # importante, no se usa pandas, sino polars\n",
    "import numpy as np\n",
    "from sklearn.linear_model import LinearRegression\n",
    "from sklearn.metrics import r2_score\n",
    "from sklearn.preprocessing import MinMaxScaler\n",
    "from sklearn.model_selection import train_test_split, cross_val_score\n",
    "from deap import base, creator, tools, algorithms\n",
    "import random\n",
    "import matplotlib.pyplot as plt"
   ]
  },
  {
   "cell_type": "markdown",
   "id": "a702f131",
   "metadata": {},
   "source": [
    "## FUNCIONES DE UTILIDAD"
   ]
  },
  {
   "cell_type": "code",
   "execution_count": 4,
   "id": "8072aef0",
   "metadata": {},
   "outputs": [
    {
     "name": "stdout",
     "output_type": "stream",
     "text": [
      "Overwriting utils.py\n"
     ]
    }
   ],
   "source": [
    "%%writefile utils.py\n",
    "\"\"\"\n",
    "Funciones reutilizables para el proyecto de análisis de datos de publicidad con algoritmos genéticos.\n",
    "\n",
    "Autor: César Diego Ruelas Flores\n",
    "Fecha: 28-may-2025\n",
    "\"\"\"\n",
    "import polars as pl\n",
    "import numpy as np\n",
    "from sklearn.linear_model import LinearRegression\n",
    "from sklearn.metrics import r2_score\n",
    "from sklearn.preprocessing import MinMaxScaler\n",
    "from sklearn.model_selection import train_test_split, cross_val_score\n",
    "from deap import base, creator, tools, algorithms\n",
    "import random\n",
    "import matplotlib.pyplot as plt\n",
    "\n",
    "def cargar_datos(url):\n",
    "    \"\"\"Carga los datos desde una URL y devuelve un DataFrame de Polars.\"\"\"\n",
    "    return pl.read_csv(url)\n",
    "\n",
    "def tratar_outliers_iqr(df, columnas=None):\n",
    "    \"\"\"Elimina outliers utilizando el método del rango intercuartílico (IQR).\"\"\"\n",
    "    if columnas is None:\n",
    "        columnas = df.columns\n",
    "\n",
    "    df_tratado = df.clone()\n",
    "    for col in columnas:\n",
    "        if df[col].dtype in [pl.Float64, pl.Float32, pl.Int64, pl.Int32]:\n",
    "            Q1 = df[col].quantile(0.25)\n",
    "            Q3 = df[col].quantile(0.75)\n",
    "            IQR = Q3 - Q1\n",
    "            limite_inferior = Q1 - 1.5 * IQR\n",
    "            limite_superior = Q3 + 1.5 * IQR\n",
    "            mediana = df[col].median()\n",
    "\n",
    "            df_tratado = df_tratado.with_columns(\n",
    "                pl.when((pl.col(col) < limite_inferior) | (pl.col(col) > limite_superior))\n",
    "                .then(mediana)\n",
    "                .otherwise(pl.col(col))\n",
    "                .alias(col)\n",
    "            )\n",
    "    return df_tratado\n",
    "\n",
    "def escalar_datos(df, columnas=None, metodo='minmax'):\n",
    "    \"\"\"Escala los datos usando MinMaxScaler o StandardScaler.\"\"\"\n",
    "    if columnas is None:\n",
    "        columnas = df.columns\n",
    "\n",
    "    df_escalado = df.clone()\n",
    "\n",
    "    if metodo == 'minmax':\n",
    "        for col in columnas:\n",
    "            if df[col].dtype in [pl.Float64, pl.Float32, pl.Int64, pl.Int32]:\n",
    "                min_val = df[col].min()\n",
    "                max_val = df[col].max()\n",
    "                df_escalado = df_escalado.with_columns(\n",
    "                    ((pl.col(col) - min_val) / (max_val - min_val)).alias(col)\n",
    "                )\n",
    "\n",
    "    return df_escalado\n",
    "\n",
    "def separar_variables(df, variable_objetivo):\n",
    "    \"\"\"Separa las variables predictoras de la variable objetivo.\"\"\"\n",
    "    X = df.drop(variable_objetivo)\n",
    "    y = df.select(variable_objetivo)\n",
    "    return X, y\n",
    "\n",
    "def convertir_a_numpy(df):\n",
    "    \"\"\"Convierte un DataFrame de Polars a array de numpy.\"\"\"\n",
    "    return df.to_numpy()\n",
    "\n",
    "def crear_fitness_function(X, y):\n",
    "    \"\"\"Crea la función de fitness para el algoritmo genético.\"\"\"\n",
    "    def evaluar_individuo(individual):\n",
    "        selected_features = [i for i, bit in enumerate(individual) if bit == 1]\n",
    "\n",
    "        if len(selected_features) == 0:\n",
    "            return (0.0,)  # Si no hay características seleccionadas, fitness = 0\n",
    "\n",
    "        X_selected = X[:, selected_features]\n",
    "\n",
    "        modelo = LinearRegression()\n",
    "        scores = cross_val_score(modelo, X_selected, y.ravel(), cv=5, scoring='r2')\n",
    "\n",
    "        return (np.mean(scores),)\n",
    "\n",
    "    return evaluar_individuo\n",
    "\n",
    "def configurar_algoritmo_genetico(n_features):\n",
    "    \"\"\"Configura el algoritmo genético usando DEAP.\"\"\"\n",
    "    if hasattr(creator, \"FitnessMax\"):\n",
    "        del creator.FitnessMax\n",
    "    if hasattr(creator, \"Individual\"):\n",
    "        del creator.Individual\n",
    "\n",
    "    creator.create(\"FitnessMax\", base.Fitness, weights=(1.0,))\n",
    "    creator.create(\"Individual\", list, fitness=creator.FitnessMax)\n",
    "\n",
    "    toolbox = base.Toolbox()\n",
    "    toolbox.register(\"attr_bool\", random.randint, 0, 1)\n",
    "    toolbox.register(\"individual\", tools.initRepeat, creator.Individual, \n",
    "                     toolbox.attr_bool, n=n_features)\n",
    "    toolbox.register(\"population\", tools.initRepeat, list, toolbox.individual)\n",
    "\n",
    "    return toolbox\n",
    "\n",
    "def ejecutar_algoritmo_genetico(X, y, n_pop=50, cx_pb=0.7, mut_pb=0.2, n_gen=50):\n",
    "    \"\"\"Ejecuta el algoritmo genético para selección de características.\"\"\"\n",
    "    n_features = X.shape[1]\n",
    "\n",
    "    toolbox = configurar_algoritmo_genetico(n_features)\n",
    "\n",
    "    fitness_func = crear_fitness_function(X, y)\n",
    "    toolbox.register(\"evaluate\", fitness_func)\n",
    "    toolbox.register(\"mate\", tools.cxTwoPoint)\n",
    "    toolbox.register(\"mutate\", tools.mutFlipBit, indpb=0.05)\n",
    "    toolbox.register(\"select\", tools.selTournament, tournsize=3)\n",
    "\n",
    "    pop = toolbox.population(n=n_pop)\n",
    "\n",
    "    stats = tools.Statistics(lambda ind: ind.fitness.values)\n",
    "    stats.register(\"avg\", np.mean)\n",
    "    stats.register(\"max\", np.max)\n",
    "    stats.register(\"min\", np.min)\n",
    "\n",
    "    pop, logbook = algorithms.eaSimple(pop, toolbox, cxpb=cx_pb, mutpb=mut_pb, \n",
    "                                       ngen=n_gen, stats=stats, verbose=True)\n",
    "\n",
    "    return pop, logbook\n",
    "\n",
    "def obtener_mejor_individuo(population):\n",
    "    \"\"\"Obtiene el mejor individuo de la población.\"\"\"\n",
    "    return tools.selBest(population, k=1)[0]\n",
    "\n",
    "def entrenar_modelo_final(X, y, selected_features, test_size=0.2, random_state=42):\n",
    "    \"\"\"Entrena el modelo final con las características seleccionadas.\"\"\"\n",
    "    X_selected = X[:, selected_features]\n",
    "\n",
    "    X_train, X_test, y_train, y_test = train_test_split(\n",
    "        X_selected, y.ravel(), test_size=test_size, random_state=random_state\n",
    "    )\n",
    "\n",
    "    modelo = LinearRegression()\n",
    "    modelo.fit(X_train, y_train)\n",
    "\n",
    "    y_pred_train = modelo.predict(X_train)\n",
    "    y_pred_test = modelo.predict(X_test)\n",
    "\n",
    "    r2_train = r2_score(y_train, y_pred_train)\n",
    "    r2_test = r2_score(y_test, y_pred_test)\n",
    "\n",
    "    return modelo, r2_train, r2_test\n",
    "\n",
    "def graficar_evolucion(logbook):\n",
    "    \"\"\"Grafica la evolución del algoritmo genético.\"\"\"\n",
    "    gen = logbook.select(\"gen\")\n",
    "    avg_fitness = logbook.select(\"avg\")\n",
    "    max_fitness = logbook.select(\"max\")\n",
    "\n",
    "    plt.figure(figsize=(10, 6))\n",
    "    plt.plot(gen, avg_fitness, label='Promedio', linewidth=2)\n",
    "    plt.plot(gen, max_fitness, label='Máximo', linewidth=2)\n",
    "    plt.xlabel('Generación')\n",
    "    plt.ylabel('R² Score')\n",
    "    plt.title('Evolución del Coeficiente de Determinación (R²)')\n",
    "    plt.legend()\n",
    "    plt.grid(True, alpha=0.3)\n",
    "    plt.show()\n",
    "\n",
    "def mostrar_caracteristicas_seleccionadas(mejor_individuo, nombres_columnas):\n",
    "    \"\"\"Muestra las características seleccionadas por el algoritmo genético.\"\"\"\n",
    "    selected_features = [i for i, bit in enumerate(mejor_individuo) if bit == 1]\n",
    "    selected_names = [nombres_columnas[i] for i in selected_features]\n",
    "\n",
    "    print(\"Características seleccionadas:\")\n",
    "    for i, name in enumerate(selected_names):\n",
    "        print(f\"  {i+1}. {name}\")\n",
    "\n",
    "    return selected_features, selected_names\n",
    "\n",
    "def analizar_outliers_multivariado(df, umbral=3):\n",
    "    \"\"\"Detecta outliers multivariados usando la distancia de Mahalanobis.\"\"\"\n",
    "    data = df.to_numpy()\n",
    "\n",
    "    mean = np.mean(data, axis=0)\n",
    "    cov = np.cov(data.T)\n",
    "\n",
    "    try:\n",
    "        inv_cov = np.linalg.inv(cov)\n",
    "        mahal_dist = []\n",
    "\n",
    "        for row in data:\n",
    "            diff = row - mean\n",
    "            mahal_dist.append(np.sqrt(diff.T @ inv_cov @ diff))\n",
    "\n",
    "        mahal_dist = np.array(mahal_dist)\n",
    "        outliers = mahal_dist > umbral\n",
    "\n",
    "        return outliers, mahal_dist\n",
    "    except np.linalg.LinAlgError:\n",
    "        print(\"Error: Matriz de covarianza singular. No se pueden detectar outliers multivariados.\")\n",
    "        return np.zeros(len(data), dtype=bool), np.zeros(len(data))\n",
    "\n",
    "def probar_multiples_configuraciones(X, y, configuraciones):\n",
    "    \"\"\"Prueba múltiples configuraciones del algoritmo genético.\"\"\"\n",
    "    resultados = []\n",
    "\n",
    "    for i, config in enumerate(configuraciones):\n",
    "        print(f\"\\nProbando configuración {i+1}/{len(configuraciones)}\")\n",
    "        print(f\"N_POP: {config['n_pop']}, CX_PB: {config['cx_pb']}, MUT_PB: {config['mut_pb']}, N_GEN: {config['n_gen']}\")\n",
    "\n",
    "        pop, logbook = ejecutar_algoritmo_genetico(\n",
    "            X, y, \n",
    "            n_pop=config['n_pop'],\n",
    "            cx_pb=config['cx_pb'],\n",
    "            mut_pb=config['mut_pb'],\n",
    "            n_gen=config['n_gen']\n",
    "        )\n",
    "\n",
    "        mejor_individuo = obtener_mejor_individuo(pop)\n",
    "        mejor_fitness = mejor_individuo.fitness.values[0]\n",
    "\n",
    "        resultados.append({\n",
    "            'configuracion': config,\n",
    "            'mejor_fitness': mejor_fitness,\n",
    "            'mejor_individuo': mejor_individuo,\n",
    "            'logbook': logbook\n",
    "        })\n",
    "\n",
    "    return resultados"
   ]
  },
  {
   "cell_type": "markdown",
   "id": "266167c3",
   "metadata": {},
   "source": [
    "Utilizando mis funciones."
   ]
  },
  {
   "cell_type": "code",
   "execution_count": 5,
   "id": "16765e09",
   "metadata": {},
   "outputs": [],
   "source": [
    "from utils import *"
   ]
  },
  {
   "cell_type": "markdown",
   "id": "dda11073",
   "metadata": {},
   "source": [
    "## Parte A: Preprocesamiento de la Información"
   ]
  },
  {
   "cell_type": "markdown",
   "id": "c71a4ca4",
   "metadata": {},
   "source": [
    "**1. Información básica del dataset:**"
   ]
  },
  {
   "cell_type": "markdown",
   "id": "26a3b80f",
   "metadata": {},
   "source": [
    "En este apartado, obtenemos la información del dataset como la forma, las columnas y las primeras filas."
   ]
  },
  {
   "cell_type": "code",
   "execution_count": 6,
   "id": "8b1a274a",
   "metadata": {},
   "outputs": [
    {
     "name": "stdout",
     "output_type": "stream",
     "text": [
      "   - Forma del dataset: (200, 4)\n",
      "   - Columnas: ['TV', 'Radio', 'Newspaper', 'Sales']\n",
      "   - Primeras 5 filas:\n",
      "shape: (5, 4)\n",
      "┌───────┬───────┬───────────┬───────┐\n",
      "│ TV    ┆ Radio ┆ Newspaper ┆ Sales │\n",
      "│ ---   ┆ ---   ┆ ---       ┆ ---   │\n",
      "│ f64   ┆ f64   ┆ f64       ┆ f64   │\n",
      "╞═══════╪═══════╪═══════════╪═══════╡\n",
      "│ 230.1 ┆ 37.8  ┆ 69.2      ┆ 22.1  │\n",
      "│ 44.5  ┆ 39.3  ┆ 45.1      ┆ 10.4  │\n",
      "│ 17.2  ┆ 45.9  ┆ 69.3      ┆ 9.3   │\n",
      "│ 151.5 ┆ 41.3  ┆ 58.5      ┆ 18.5  │\n",
      "│ 180.8 ┆ 10.8  ┆ 58.4      ┆ 12.9  │\n",
      "└───────┴───────┴───────────┴───────┘\n"
     ]
    }
   ],
   "source": [
    "df = cargar_datos(URL)\n",
    "print(f\"   - Forma del dataset: {df.shape}\")\n",
    "print(f\"   - Columnas: {df.columns}\")\n",
    "print(f\"   - Primeras 5 filas:\")\n",
    "print(df.head())"
   ]
  },
  {
   "cell_type": "markdown",
   "id": "2029cc1f",
   "metadata": {},
   "source": [
    "**2. Análisis de datos faltantes:**"
   ]
  },
  {
   "cell_type": "code",
   "execution_count": 7,
   "id": "d251961e",
   "metadata": {},
   "outputs": [
    {
     "name": "stdout",
     "output_type": "stream",
     "text": [
      "shape: (1, 4)\n",
      "┌─────┬───────┬───────────┬───────┐\n",
      "│ TV  ┆ Radio ┆ Newspaper ┆ Sales │\n",
      "│ --- ┆ ---   ┆ ---       ┆ ---   │\n",
      "│ u32 ┆ u32   ┆ u32       ┆ u32   │\n",
      "╞═════╪═══════╪═══════════╪═══════╡\n",
      "│ 0   ┆ 0     ┆ 0         ┆ 0     │\n",
      "└─────┴───────┴───────────┴───────┘\n"
     ]
    }
   ],
   "source": [
    "datos_faltantes = df.null_count()\n",
    "print(datos_faltantes)"
   ]
  },
  {
   "cell_type": "code",
   "execution_count": 8,
   "id": "032674e7",
   "metadata": {},
   "outputs": [],
   "source": [
    "df_limpio = df"
   ]
  },
  {
   "cell_type": "markdown",
   "id": "30d5c367",
   "metadata": {},
   "source": [
    "**3. Dataset después de eliminar NaN:**"
   ]
  },
  {
   "cell_type": "code",
   "execution_count": 9,
   "id": "dd8a330c",
   "metadata": {},
   "outputs": [
    {
     "name": "stdout",
     "output_type": "stream",
     "text": [
      "(200, 4)\n"
     ]
    }
   ],
   "source": [
    "print(df_limpio.shape)"
   ]
  },
  {
   "cell_type": "markdown",
   "id": "a32fca5b",
   "metadata": {},
   "source": [
    "**4. Estadísticas descriptivas:**"
   ]
  },
  {
   "cell_type": "code",
   "execution_count": 10,
   "id": "c294c63d",
   "metadata": {},
   "outputs": [
    {
     "name": "stdout",
     "output_type": "stream",
     "text": [
      "shape: (9, 5)\n",
      "┌────────────┬───────────┬───────────┬───────────┬──────────┐\n",
      "│ statistic  ┆ TV        ┆ Radio     ┆ Newspaper ┆ Sales    │\n",
      "│ ---        ┆ ---       ┆ ---       ┆ ---       ┆ ---      │\n",
      "│ str        ┆ f64       ┆ f64       ┆ f64       ┆ f64      │\n",
      "╞════════════╪═══════════╪═══════════╪═══════════╪══════════╡\n",
      "│ count      ┆ 200.0     ┆ 200.0     ┆ 200.0     ┆ 200.0    │\n",
      "│ null_count ┆ 0.0       ┆ 0.0       ┆ 0.0       ┆ 0.0      │\n",
      "│ mean       ┆ 147.0425  ┆ 23.264    ┆ 30.554    ┆ 14.0225  │\n",
      "│ std        ┆ 85.854236 ┆ 14.846809 ┆ 21.778621 ┆ 5.217457 │\n",
      "│ min        ┆ 0.7       ┆ 0.0       ┆ 0.3       ┆ 1.6      │\n",
      "│ 25%        ┆ 74.7      ┆ 10.0      ┆ 12.8      ┆ 10.4     │\n",
      "│ 50%        ┆ 149.8     ┆ 23.3      ┆ 25.9      ┆ 12.9     │\n",
      "│ 75%        ┆ 218.5     ┆ 36.5      ┆ 45.1      ┆ 17.4     │\n",
      "│ max        ┆ 296.4     ┆ 49.6      ┆ 114.0     ┆ 27.0     │\n",
      "└────────────┴───────────┴───────────┴───────────┴──────────┘\n"
     ]
    }
   ],
   "source": [
    "print(df_limpio.describe())"
   ]
  },
  {
   "cell_type": "markdown",
   "id": "f02c883e",
   "metadata": {},
   "source": [
    "**5. Análisis de outliers univariados:**"
   ]
  },
  {
   "cell_type": "code",
   "execution_count": 11,
   "id": "86e101b7",
   "metadata": {},
   "outputs": [
    {
     "name": "stdout",
     "output_type": "stream",
     "text": [
      "   - TV: 0 outliers detectados\n",
      "   - Radio: 0 outliers detectados\n",
      "   - Newspaper: 2 outliers detectados\n",
      "   - Sales: 0 outliers detectados\n"
     ]
    }
   ],
   "source": [
    "for col in df_limpio.columns:\n",
    "    Q1 = df_limpio[col].quantile(0.25)\n",
    "    Q3 = df_limpio[col].quantile(0.75)\n",
    "    IQR = Q3 - Q1\n",
    "    limite_inferior = Q1 - 1.5 * IQR\n",
    "    limite_superior = Q3 + 1.5 * IQR\n",
    "    \n",
    "    outliers = df_limpio.filter(\n",
    "        (pl.col(col) < limite_inferior) | (pl.col(col) > limite_superior)\n",
    "    ).shape[0]\n",
    "    \n",
    "    print(f\"   - {col}: {outliers} outliers detectados\")\n",
    "    \n",
    "df_sin_outliers = tratar_outliers_iqr(df_limpio)"
   ]
  },
  {
   "cell_type": "markdown",
   "id": "5360db43",
   "metadata": {},
   "source": [
    "**6. Dataset después del tratamiento de outliers:**"
   ]
  },
  {
   "cell_type": "code",
   "execution_count": 12,
   "id": "4c37396a",
   "metadata": {},
   "outputs": [],
   "source": [
    "outliers_multi, distancias = analizar_outliers_multivariado(df_sin_outliers)"
   ]
  },
  {
   "cell_type": "markdown",
   "id": "0bba704a",
   "metadata": {},
   "source": [
    "**7. Análisis de outliers multivariados:**"
   ]
  },
  {
   "cell_type": "code",
   "execution_count": 13,
   "id": "6af7c363",
   "metadata": {},
   "outputs": [
    {
     "name": "stdout",
     "output_type": "stream",
     "text": [
      "   - Outliers multivariados detectados: 9\n"
     ]
    }
   ],
   "source": [
    "print(f\"   - Outliers multivariados detectados: {np.sum(outliers_multi)}\")\n"
   ]
  },
  {
   "cell_type": "markdown",
   "id": "bd301953",
   "metadata": {},
   "source": [
    "**8. Escalamiento de datos:**"
   ]
  },
  {
   "cell_type": "code",
   "execution_count": 14,
   "id": "3f8e1df5",
   "metadata": {},
   "outputs": [
    {
     "name": "stdout",
     "output_type": "stream",
     "text": [
      "   - Datos escalados usando MinMaxScaler\n",
      "   - Estadísticas después del escalamiento:\n",
      "shape: (9, 5)\n",
      "┌────────────┬──────────┬──────────┬───────────┬──────────┐\n",
      "│ statistic  ┆ TV       ┆ Radio    ┆ Newspaper ┆ Sales    │\n",
      "│ ---        ┆ ---      ┆ ---      ┆ ---       ┆ ---      │\n",
      "│ str        ┆ f64      ┆ f64      ┆ f64       ┆ f64      │\n",
      "╞════════════╪══════════╪══════════╪═══════════╪══════════╡\n",
      "│ count      ┆ 200.0    ┆ 200.0    ┆ 200.0     ┆ 200.0    │\n",
      "│ null_count ┆ 0.0      ┆ 0.0      ┆ 0.0       ┆ 0.0      │\n",
      "│ mean       ┆ 0.494902 ┆ 0.469032 ┆ 0.330382  ┆ 0.489075 │\n",
      "│ std        ┆ 0.290342 ┆ 0.299331 ┆ 0.228364  ┆ 0.205412 │\n",
      "│ min        ┆ 0.0      ┆ 0.0      ┆ 0.0       ┆ 0.0      │\n",
      "│ 25%        ┆ 0.250254 ┆ 0.201613 ┆ 0.140292  ┆ 0.346457 │\n",
      "│ 50%        ┆ 0.504227 ┆ 0.469758 ┆ 0.285634  ┆ 0.444882 │\n",
      "│ 75%        ┆ 0.736557 ┆ 0.735887 ┆ 0.482604  ┆ 0.622047 │\n",
      "│ max        ┆ 1.0      ┆ 1.0      ┆ 1.0       ┆ 1.0      │\n",
      "└────────────┴──────────┴──────────┴───────────┴──────────┘\n"
     ]
    }
   ],
   "source": [
    "df_escalado = escalar_datos(df_sin_outliers)\n",
    "print(\"   - Datos escalados usando MinMaxScaler\")\n",
    "print(\"   - Estadísticas después del escalamiento:\")\n",
    "print(df_escalado.describe())"
   ]
  },
  {
   "cell_type": "markdown",
   "id": "bf9e20fc",
   "metadata": {},
   "source": [
    "## Parte B: Algoritmo Genético para selección de características"
   ]
  },
  {
   "cell_type": "markdown",
   "id": "31c6912b",
   "metadata": {},
   "source": [
    "**9. Variables separadas:**"
   ]
  },
  {
   "cell_type": "code",
   "execution_count": 15,
   "id": "377a429e",
   "metadata": {},
   "outputs": [
    {
     "name": "stdout",
     "output_type": "stream",
     "text": [
      "   - Características (X): (200, 3)\n",
      "   - Variable objetivo (y): (200, 1)\n"
     ]
    }
   ],
   "source": [
    "X_df, y_df = separar_variables(df_escalado, 'Sales')\n",
    "print(f\"   - Características (X): {X_df.shape}\")\n",
    "print(f\"   - Variable objetivo (y): {y_df.shape}\")\n",
    "\n",
    "X = convertir_a_numpy(X_df)\n",
    "y = convertir_a_numpy(y_df)\n",
    "nombres_caracteristicas = X_df.columns"
   ]
  },
  {
   "cell_type": "markdown",
   "id": "292bd787",
   "metadata": {},
   "source": [
    "**10. Conversión a numpy arrays completada**"
   ]
  },
  {
   "cell_type": "code",
   "execution_count": 17,
   "id": "ad78eba4",
   "metadata": {},
   "outputs": [
    {
     "name": "stdout",
     "output_type": "stream",
     "text": [
      "    - X shape: (200, 3)\n",
      "    - y shape: (200, 1)\n"
     ]
    }
   ],
   "source": [
    "print(f\"    - X shape: {X.shape}\")\n",
    "print(f\"    - y shape: {y.shape}\")\n",
    "\n",
    "configuraciones = [\n",
    "    {'n_pop': 30, 'cx_pb': 0.6, 'mut_pb': 0.1, 'n_gen': 30},\n",
    "    {'n_pop': 50, 'cx_pb': 0.7, 'mut_pb': 0.2, 'n_gen': 40},\n",
    "    {'n_pop': 70, 'cx_pb': 0.8, 'mut_pb': 0.3, 'n_gen': 50},\n",
    "    {'n_pop': 100, 'cx_pb': 0.9, 'mut_pb': 0.1, 'n_gen': 60}\n",
    "]"
   ]
  },
  {
   "cell_type": "code",
   "execution_count": 18,
   "id": "17b79232",
   "metadata": {},
   "outputs": [
    {
     "name": "stdout",
     "output_type": "stream",
     "text": [
      "\n",
      "11. Probando 4 configuraciones diferentes:\n",
      "\n",
      "Probando configuración 1/4\n",
      "N_POP: 30, CX_PB: 0.6, MUT_PB: 0.1, N_GEN: 30\n",
      "gen\tnevals\tavg     \tmax     \tmin\n",
      "0  \t30    \t0.456417\t0.889283\t0  \n",
      "1  \t15    \t0.775198\t0.889283\t0.289392\n",
      "2  \t19    \t0.870512\t0.889283\t0.5926  \n",
      "3  \t22    \t0.889283\t0.889283\t0.889283\n",
      "4  \t23    \t0.889283\t0.889283\t0.889283\n",
      "5  \t23    \t0.889283\t0.889283\t0.889283\n",
      "6  \t15    \t0.889283\t0.889283\t0.889283\n",
      "7  \t20    \t0.889283\t0.889283\t0.889283\n",
      "8  \t16    \t0.889283\t0.889283\t0.889283\n",
      "9  \t19    \t0.889283\t0.889283\t0.889283\n",
      "10 \t25    \t0.889283\t0.889283\t0.889283\n",
      "11 \t20    \t0.889212\t0.889283\t0.887142\n",
      "12 \t20    \t0.889283\t0.889283\t0.889283\n",
      "13 \t22    \t0.889283\t0.889283\t0.889283\n",
      "14 \t21    \t0.889283\t0.889283\t0.889283\n",
      "15 \t13    \t0.889283\t0.889283\t0.889283\n",
      "16 \t12    \t0.889283\t0.889283\t0.889283\n",
      "17 \t19    \t0.889283\t0.889283\t0.889283\n",
      "18 \t17    \t0.889212\t0.889283\t0.887142\n",
      "19 \t17    \t0.869992\t0.889283\t0.310564\n",
      "20 \t19    \t0.889283\t0.889283\t0.889283\n",
      "21 \t22    \t0.869921\t0.889283\t0.310564\n",
      "22 \t15    \t0.889283\t0.889283\t0.889283\n",
      "23 \t27    \t0.869921\t0.889283\t0.310564\n",
      "24 \t20    \t0.889283\t0.889283\t0.889283\n",
      "25 \t19    \t0.889283\t0.889283\t0.889283\n",
      "26 \t28    \t0.889283\t0.889283\t0.889283\n",
      "27 \t22    \t0.88914 \t0.889283\t0.887142\n",
      "28 \t18    \t0.889283\t0.889283\t0.889283\n",
      "29 \t20    \t0.889283\t0.889283\t0.889283\n",
      "30 \t23    \t0.889283\t0.889283\t0.889283\n",
      "\n",
      "Probando configuración 2/4\n",
      "N_POP: 50, CX_PB: 0.7, MUT_PB: 0.2, N_GEN: 40\n",
      "gen\tnevals\tavg     \tmax     \tmin\n",
      "0  \t50    \t0.493216\t0.889283\t0  \n",
      "1  \t38    \t0.821033\t0.889283\t0  \n",
      "2  \t34    \t0.865963\t0.889283\t0.310564\n",
      "3  \t43    \t0.889283\t0.889283\t0.889283\n",
      "4  \t50    \t0.889283\t0.889283\t0.889283\n",
      "5  \t39    \t0.877373\t0.889283\t0.5926  \n",
      "6  \t36    \t0.889283\t0.889283\t0.889283\n",
      "7  \t41    \t0.85988 \t0.889283\t0       \n",
      "8  \t39    \t0.848306\t0.889283\t0       \n",
      "9  \t39    \t0.877709\t0.889283\t0.310564\n",
      "10 \t37    \t0.889283\t0.889283\t0.889283\n",
      "11 \t39    \t0.853946\t0.889283\t0       \n",
      "12 \t38    \t0.889283\t0.889283\t0.889283\n",
      "13 \t38    \t0.889283\t0.889283\t0.889283\n",
      "14 \t38    \t0.889283\t0.889283\t0.889283\n",
      "15 \t35    \t0.877709\t0.889283\t0.310564\n",
      "16 \t35    \t0.84829 \t0.889283\t0.310564\n",
      "17 \t36    \t0.889283\t0.889283\t0.889283\n",
      "18 \t40    \t0.87758 \t0.889283\t0.310564\n",
      "19 \t34    \t0.883349\t0.889283\t0.5926  \n",
      "20 \t40    \t0.865841\t0.889283\t0.310564\n",
      "21 \t35    \t0.877709\t0.889283\t0.310564\n",
      "22 \t42    \t0.883306\t0.889283\t0.5926  \n",
      "23 \t35    \t0.889283\t0.889283\t0.889283\n",
      "24 \t35    \t0.889283\t0.889283\t0.889283\n",
      "25 \t42    \t0.877709\t0.889283\t0.310564\n",
      "26 \t43    \t0.883349\t0.889283\t0.5926  \n",
      "27 \t37    \t0.889283\t0.889283\t0.889283\n",
      "28 \t39    \t0.85963 \t0.889283\t0       \n",
      "29 \t46    \t0.883306\t0.889283\t0.5926  \n",
      "30 \t42    \t0.889283\t0.889283\t0.889283\n",
      "31 \t47    \t0.889283\t0.889283\t0.889283\n",
      "32 \t41    \t0.877709\t0.889283\t0.310564\n",
      "33 \t37    \t0.889283\t0.889283\t0.889283\n",
      "34 \t44    \t0.88924 \t0.889283\t0.887142\n",
      "35 \t39    \t0.877666\t0.889283\t0.310564\n",
      "36 \t37    \t0.871775\t0.889283\t0.310564\n",
      "37 \t44    \t0.871775\t0.889283\t0.310564\n",
      "38 \t37    \t0.877709\t0.889283\t0.310564\n",
      "39 \t43    \t0.88924 \t0.889283\t0.887142\n",
      "40 \t38    \t0.878021\t0.889283\t0.5926  \n",
      "\n",
      "Probando configuración 3/4\n",
      "N_POP: 70, CX_PB: 0.8, MUT_PB: 0.3, N_GEN: 50\n",
      "gen\tnevals\tavg     \tmax     \tmin\n",
      "0  \t70    \t0.425195\t0.889283\t0  \n",
      "1  \t54    \t0.656421\t0.889283\t0  \n",
      "2  \t66    \t0.843043\t0.889283\t0.289392\n",
      "3  \t58    \t0.876777\t0.889283\t0.310564\n",
      "4  \t62    \t0.872508\t0.889283\t0.310564\n",
      "5  \t58    \t0.851382\t0.889283\t0       \n",
      "6  \t56    \t0.872748\t0.889283\t0.310564\n",
      "7  \t55    \t0.872718\t0.889283\t0.310564\n",
      "8  \t56    \t0.856213\t0.889283\t0.310564\n",
      "9  \t64    \t0.876777\t0.889283\t0.310564\n",
      "10 \t60    \t0.885014\t0.889283\t0.5926  \n",
      "11 \t60    \t0.867968\t0.889283\t0.289392\n",
      "12 \t62    \t0.859804\t0.889283\t0       \n",
      "13 \t58    \t0.881238\t0.889283\t0.5926  \n",
      "14 \t60    \t0.880954\t0.889283\t0.310564\n",
      "15 \t59    \t0.884953\t0.889283\t0.5926  \n",
      "16 \t60    \t0.876747\t0.889283\t0.310564\n",
      "17 \t67    \t0.881016\t0.889283\t0.310564\n",
      "18 \t60    \t0.876579\t0.889283\t0       \n",
      "19 \t63    \t0.889283\t0.889283\t0.889283\n",
      "20 \t60    \t0.881016\t0.889283\t0.310564\n",
      "21 \t56    \t0.880985\t0.889283\t0.310564\n",
      "22 \t64    \t0.87233 \t0.889283\t0.5926  \n",
      "23 \t62    \t0.860242\t0.889283\t0.310564\n",
      "24 \t58    \t0.889283\t0.889283\t0.889283\n",
      "25 \t61    \t0.876716\t0.889283\t0.310564\n",
      "26 \t54    \t0.880954\t0.889283\t0.310564\n",
      "27 \t67    \t0.872478\t0.889283\t0.310564\n",
      "28 \t63    \t0.889252\t0.889283\t0.887142\n",
      "29 \t54    \t0.889222\t0.889283\t0.887142\n",
      "30 \t64    \t0.881016\t0.889283\t0.310564\n",
      "31 \t61    \t0.889252\t0.889283\t0.887142\n",
      "32 \t63    \t0.872268\t0.889283\t0.5926  \n",
      "33 \t65    \t0.885014\t0.889283\t0.5926  \n",
      "34 \t59    \t0.860212\t0.889283\t0.310564\n",
      "35 \t58    \t0.889252\t0.889283\t0.887142\n",
      "36 \t60    \t0.876777\t0.889283\t0.310564\n",
      "37 \t60    \t0.864525\t0.889283\t0.310564\n",
      "38 \t57    \t0.872539\t0.889283\t0.310564\n",
      "39 \t60    \t0.880954\t0.889283\t0.310564\n",
      "40 \t62    \t0.889252\t0.889283\t0.887142\n",
      "41 \t58    \t0.881016\t0.889283\t0.310564\n",
      "42 \t60    \t0.889191\t0.889283\t0.887142\n",
      "43 \t61    \t0.881016\t0.889283\t0.310564\n",
      "44 \t55    \t0.889283\t0.889283\t0.889283\n",
      "45 \t57    \t0.876747\t0.889283\t0.310564\n",
      "46 \t67    \t0.864389\t0.889283\t0.310564\n",
      "47 \t53    \t0.876777\t0.889283\t0.310564\n",
      "48 \t59    \t0.872478\t0.889283\t0.310564\n",
      "49 \t54    \t0.876777\t0.889283\t0.310564\n",
      "50 \t62    \t0.889222\t0.889283\t0.887142\n",
      "\n",
      "Probando configuración 4/4\n",
      "N_POP: 100, CX_PB: 0.9, MUT_PB: 0.1, N_GEN: 60\n",
      "gen\tnevals\tavg     \tmax     \tmin\n",
      "0  \t100   \t0.446582\t0.889283\t0  \n",
      "1  \t92    \t0.72586 \t0.889283\t0.0237696\n",
      "2  \t90    \t0.872046\t0.889283\t0.289392 \n",
      "3  \t95    \t0.889219\t0.889283\t0.887142 \n",
      "4  \t96    \t0.88924 \t0.889283\t0.887142 \n",
      "5  \t90    \t0.883496\t0.889283\t0.310564 \n",
      "6  \t91    \t0.883496\t0.889283\t0.310564 \n",
      "7  \t89    \t0.880641\t0.889283\t0.289392 \n",
      "8  \t92    \t0.889262\t0.889283\t0.887142 \n",
      "9  \t94    \t0.889283\t0.889283\t0.889283 \n",
      "10 \t93    \t0.880529\t0.889283\t0.310564 \n",
      "11 \t88    \t0.886295\t0.889283\t0.5926   \n",
      "12 \t96    \t0.886316\t0.889283\t0.5926   \n",
      "13 \t87    \t0.886316\t0.889283\t0.5926   \n",
      "14 \t96    \t0.889262\t0.889283\t0.887142 \n",
      "15 \t90    \t0.883474\t0.889283\t0.310564 \n",
      "16 \t89    \t0.886316\t0.889283\t0.5926   \n",
      "17 \t90    \t0.889283\t0.889283\t0.889283 \n",
      "18 \t84    \t0.889283\t0.889283\t0.889283 \n",
      "19 \t91    \t0.883474\t0.889283\t0.310564 \n",
      "20 \t88    \t0.883453\t0.889283\t0.310564 \n",
      "21 \t93    \t0.886295\t0.889283\t0.5926   \n",
      "22 \t92    \t0.889283\t0.889283\t0.889283 \n",
      "23 \t84    \t0.889283\t0.889283\t0.889283 \n",
      "24 \t95    \t0.889262\t0.889283\t0.887142 \n",
      "25 \t92    \t0.886316\t0.889283\t0.5926   \n",
      "26 \t92    \t0.886316\t0.889283\t0.5926   \n",
      "27 \t96    \t0.880529\t0.889283\t0.310564 \n",
      "28 \t88    \t0.889283\t0.889283\t0.889283 \n",
      "29 \t87    \t0.880529\t0.889283\t0.310564 \n",
      "30 \t88    \t0.886295\t0.889283\t0.5926   \n",
      "31 \t94    \t0.889283\t0.889283\t0.889283 \n",
      "32 \t97    \t0.883496\t0.889283\t0.310564 \n",
      "33 \t81    \t0.886295\t0.889283\t0.5926   \n",
      "34 \t84    \t0.889262\t0.889283\t0.887142 \n",
      "35 \t90    \t0.889283\t0.889283\t0.889283 \n",
      "36 \t90    \t0.889283\t0.889283\t0.889283 \n",
      "37 \t95    \t0.880529\t0.889283\t0.310564 \n",
      "38 \t93    \t0.877709\t0.889283\t0.310564 \n",
      "39 \t87    \t0.877498\t0.889283\t0.310564 \n",
      "40 \t86    \t0.889262\t0.889283\t0.887142 \n",
      "41 \t85    \t0.880529\t0.889283\t0.310564 \n",
      "42 \t91    \t0.880529\t0.889283\t0.310564 \n",
      "43 \t91    \t0.889283\t0.889283\t0.889283 \n",
      "44 \t93    \t0.880529\t0.889283\t0.310564 \n",
      "45 \t87    \t0.88924 \t0.889283\t0.887142 \n",
      "46 \t90    \t0.889262\t0.889283\t0.887142 \n",
      "47 \t92    \t0.886273\t0.889283\t0.5926   \n",
      "48 \t86    \t0.886661\t0.889283\t0.627125 \n",
      "49 \t90    \t0.889283\t0.889283\t0.889283 \n",
      "50 \t95    \t0.889283\t0.889283\t0.889283 \n",
      "51 \t92    \t0.883306\t0.889283\t0.5926   \n",
      "52 \t84    \t0.883474\t0.889283\t0.310564 \n",
      "53 \t91    \t0.883432\t0.889283\t0.310564 \n",
      "54 \t94    \t0.889283\t0.889283\t0.889283 \n",
      "55 \t93    \t0.886316\t0.889283\t0.5926   \n",
      "56 \t88    \t0.880529\t0.889283\t0.310564 \n",
      "57 \t95    \t0.883496\t0.889283\t0.310564 \n",
      "58 \t92    \t0.88664 \t0.889283\t0.627125 \n",
      "59 \t97    \t0.889283\t0.889283\t0.889283 \n",
      "60 \t87    \t0.883263\t0.889283\t0.289392 \n"
     ]
    }
   ],
   "source": [
    "print(f\"\\n11. Probando {len(configuraciones)} configuraciones diferentes:\")\n",
    "\n",
    "resultados = probar_multiples_configuraciones(X, y, configuraciones)\n",
    "\n",
    "mejor_config_idx = np.argmax([r['mejor_fitness'] for r in resultados])\n",
    "mejor_resultado = resultados[mejor_config_idx]"
   ]
  },
  {
   "cell_type": "markdown",
   "id": "17b4afd5",
   "metadata": {},
   "source": [
    "**12. Mejor configuración encontrada:**"
   ]
  },
  {
   "cell_type": "code",
   "execution_count": 19,
   "id": "35537c3e",
   "metadata": {},
   "outputs": [
    {
     "name": "stdout",
     "output_type": "stream",
     "text": [
      "    - Índice: 1\n",
      "    - Configuración: {'n_pop': 30, 'cx_pb': 0.6, 'mut_pb': 0.1, 'n_gen': 30}\n",
      "    - Mejor fitness (R²): 0.8893\n"
     ]
    }
   ],
   "source": [
    "print(f\"    - Índice: {mejor_config_idx + 1}\")\n",
    "print(f\"    - Configuración: {mejor_resultado['configuracion']}\")\n",
    "print(f\"    - Mejor fitness (R²): {mejor_resultado['mejor_fitness']:.4f}\")"
   ]
  },
  {
   "cell_type": "markdown",
   "id": "8c0d32a0",
   "metadata": {},
   "source": [
    "## Parte C: Modelo de regresión lineal"
   ]
  },
  {
   "cell_type": "code",
   "execution_count": 20,
   "id": "14c9b793",
   "metadata": {},
   "outputs": [
    {
     "name": "stdout",
     "output_type": "stream",
     "text": [
      "Características seleccionadas:\n",
      "  1. TV\n",
      "  2. Radio\n"
     ]
    }
   ],
   "source": [
    "mejor_individuo = mejor_resultado['mejor_individuo']\n",
    "caracteristicas_seleccionadas, nombres_seleccionados = mostrar_caracteristicas_seleccionadas(\n",
    "    mejor_individuo, nombres_caracteristicas\n",
    ")"
   ]
  },
  {
   "cell_type": "markdown",
   "id": "877de61e",
   "metadata": {},
   "source": [
    "**13. Graficando evolución del algoritmo genético:**"
   ]
  },
  {
   "cell_type": "code",
   "execution_count": 21,
   "id": "c2b6bdfc",
   "metadata": {},
   "outputs": [
    {
     "data": {
      "image/png": "[encoded data removed]",
      "text/plain": [
       "<Figure size 1000x600 with 1 Axes>"
      ]
     },
     "metadata": {},
     "output_type": "display_data"
    }
   ],
   "source": [
    "graficar_evolucion(mejor_resultado['logbook'])\n",
    "\n",
    "modelo_final, r2_train, r2_test = entrenar_modelo_final(\n",
    "    X, y, caracteristicas_seleccionadas, test_size=0.2, random_state=42\n",
    ")"
   ]
  },
  {
   "cell_type": "markdown",
   "id": "23e620d6",
   "metadata": {},
   "source": [
    "**14. Entrenando modelo final con las características seleccionadas:**"
   ]
  },
  {
   "cell_type": "code",
   "execution_count": null,
   "id": "69190e4d",
   "metadata": {},
   "outputs": [
    {
     "name": "stdout",
     "output_type": "stream",
     "text": [
      "    - R² en entrenamiento (80%): 0.8956\n",
      "    - R² en prueba (20%): 0.9006\n"
     ]
    }
   ],
   "source": [
    "print(f\"    - R² en entrenamiento (80%): {r2_train:.4f}\")\n",
    "print(f\"    - R² en prueba (20%): {r2_test:.4f}\")"
   ]
  },
  {
   "cell_type": "code",
   "execution_count": 23,
   "id": "302b6a74",
   "metadata": {},
   "outputs": [],
   "source": [
    "modelo_completo, r2_train_completo, r2_test_completo = entrenar_modelo_final(\n",
    "    X, y, list(range(X.shape[1])), test_size=0.2, random_state=42\n",
    ")"
   ]
  },
  {
   "cell_type": "markdown",
   "id": "42a65a3f",
   "metadata": {},
   "source": [
    "**15. Comparación con modelo usando todas las características:**"
   ]
  },
  {
   "cell_type": "code",
   "execution_count": 24,
   "id": "31231012",
   "metadata": {},
   "outputs": [
    {
     "name": "stdout",
     "output_type": "stream",
     "text": [
      "    - R² en entrenamiento (todas las características): 0.8957\n",
      "    - R² en prueba (todas las características): 0.8999\n"
     ]
    }
   ],
   "source": [
    "print(f\"    - R² en entrenamiento (todas las características): {r2_train_completo:.4f}\")\n",
    "print(f\"    - R² en prueba (todas las características): {r2_test_completo:.4f}\")"
   ]
  },
  {
   "cell_type": "code",
   "execution_count": 25,
   "id": "b4791b87",
   "metadata": {},
   "outputs": [
    {
     "name": "stdout",
     "output_type": "stream",
     "text": [
      "\n",
      "============================================================\n",
      "RESUMEN DE RESULTADOS\n",
      "============================================================\n",
      "Dataset original: 200 filas, 4 columnas\n",
      "Características originales: 3\n",
      "Características seleccionadas: 2\n",
      "Porcentaje de reducción: 33.3%\n"
     ]
    }
   ],
   "source": [
    "print(\"\\n\" + \"=\" * 60)\n",
    "print(\"RESUMEN DE RESULTADOS\")\n",
    "print(\"=\" * 60)\n",
    "\n",
    "print(f\"Dataset original: {df.shape[0]} filas, {df.shape[1]} columnas\")\n",
    "print(f\"Características originales: {len(nombres_caracteristicas)}\")\n",
    "print(f\"Características seleccionadas: {len(caracteristicas_seleccionadas)}\")\n",
    "print(f\"Porcentaje de reducción: {(1 - len(caracteristicas_seleccionadas)/len(nombres_caracteristicas))*100:.1f}%\")"
   ]
  },
  {
   "cell_type": "markdown",
   "id": "6408fdbf",
   "metadata": {},
   "source": [
    "**Mejor configuración del algoritmo genético:**"
   ]
  },
  {
   "cell_type": "code",
   "execution_count": 26,
   "id": "5548d743",
   "metadata": {},
   "outputs": [
    {
     "name": "stdout",
     "output_type": "stream",
     "text": [
      "  - N_POP: 30\n",
      "  - CX_PB: 0.6\n",
      "  - MUT_PB: 0.1\n",
      "  - N_GEN: 30\n"
     ]
    }
   ],
   "source": [
    "for key, value in mejor_resultado['configuracion'].items():\n",
    "    print(f\"  - {key.upper()}: {value}\")"
   ]
  },
  {
   "cell_type": "markdown",
   "id": "982e974f",
   "metadata": {},
   "source": [
    "**Rendimiento del modelo:**"
   ]
  },
  {
   "cell_type": "code",
   "execution_count": 27,
   "id": "9ee44307",
   "metadata": {},
   "outputs": [
    {
     "name": "stdout",
     "output_type": "stream",
     "text": [
      "  - Con características seleccionadas: R² = 0.9006\n",
      "  - Con todas las características: R² = 0.8999\n",
      "  - Mejora: +0.0006\n"
     ]
    }
   ],
   "source": [
    "print(f\"  - Con características seleccionadas: R² = {r2_test:.4f}\")\n",
    "print(f\"  - Con todas las características: R² = {r2_test_completo:.4f}\")\n",
    "diferencia = r2_test - r2_test_completo\n",
    "if diferencia > 0:\n",
    "    print(f\"  - Mejora: +{diferencia:.4f}\")\n",
    "else:\n",
    "    print(f\"  - Pérdida: {diferencia:.4f}\")"
   ]
  },
  {
   "cell_type": "markdown",
   "id": "176fb837",
   "metadata": {},
   "source": [
    "**Características seleccionadas:**"
   ]
  },
  {
   "cell_type": "code",
   "execution_count": null,
   "id": "3cb02375",
   "metadata": {},
   "outputs": [
    {
     "name": "stdout",
     "output_type": "stream",
     "text": [
      "  1. TV\n",
      "  2. Radio\n"
     ]
    }
   ],
   "source": [
    "for i, nombre in enumerate(nombres_seleccionados):\n",
    "    print(f\"  {i+1}. {nombre}\")"
   ]
  },
  {
   "cell_type": "markdown",
   "id": "b9ffc2a8",
   "metadata": {},
   "source": [
    "## pytest"
   ]
  },
  {
   "cell_type": "code",
   "execution_count": 29,
   "id": "bed5a61c",
   "metadata": {},
   "outputs": [
    {
     "name": "stdout",
     "output_type": "stream",
     "text": [
      "Overwriting test_utils.py\n"
     ]
    }
   ],
   "source": [
    "%%writefile test_utils.py\n",
    "import pytest\n",
    "import polars as pl\n",
    "import numpy as np\n",
    "from sklearn.datasets import make_regression\n",
    "from utils import *\n",
    "\n",
    "# Definición de variables globales\n",
    "URL = \"https://raw.githubusercontent.com/AzShet/Data_Mining-LAB11/refs/heads/develop/Advertising-1.csv\"\n",
    "COLUMNAS = [\"TV\", \"Radio\", \"Newspaper\", \"Sales\"]\n",
    "\n",
    "# Generar un DataFrame de prueba\n",
    "def generar_dataframe_prueba():\n",
    "    X, y = make_regression(n_samples=100, n_features=3, noise=0.1)\n",
    "    df = pl.DataFrame({\n",
    "        \"TV\": X[:, 0],\n",
    "        \"Radio\": X[:, 1],\n",
    "        \"Newspaper\": X[:, 2],\n",
    "        \"Sales\": y\n",
    "    })\n",
    "    return df\n",
    "\n",
    "def test_cargar_datos():\n",
    "    df = cargar_datos(URL)\n",
    "    assert df.shape[0] > 0  # Verifica que se carguen filas\n",
    "    assert set(COLUMNAS).issubset(df.columns)  # Verifica que las columnas esperadas estén presentes\n",
    "\n",
    "def test_tratar_outliers_iqr():\n",
    "    df = generar_dataframe_prueba()\n",
    "    df_sin_outliers = tratar_outliers_iqr(df)\n",
    "    assert df_sin_outliers.shape[0] <= df.shape[0]  # Verifica que se eliminen filas\n",
    "\n",
    "def test_escalar_datos():\n",
    "    df = generar_dataframe_prueba()\n",
    "    df_escalado = escalar_datos(df)\n",
    "    assert (df_escalado.select(pl.all()).to_numpy().min() >= 0).all()  # Verifica que los valores estén en el rango [0, 1]\n",
    "    assert (df_escalado.select(pl.all()).to_numpy().max() <= 1).all()\n",
    "\n",
    "def test_separar_variables():\n",
    "    df = generar_dataframe_prueba()\n",
    "    X, y = separar_variables(df, 'Sales')\n",
    "    assert X.shape[1] == 3  # Verifica que se devuelvan 3 características\n",
    "    assert y.shape[1] == 1  # Verifica que se devuelva 1 variable objetivo\n",
    "\n",
    "def test_convertir_a_numpy():\n",
    "    df = generar_dataframe_prueba()\n",
    "    np_array = convertir_a_numpy(df)\n",
    "    assert np_array.shape == (100, 4)  # Verifica que el tamaño del array sea correcto\n",
    "\n",
    "def test_crear_fitness_function():\n",
    "    df = generar_dataframe_prueba()\n",
    "    X, y = separar_variables(df, 'Sales')\n",
    "    fitness_func = crear_fitness_function(X.to_numpy(), y.to_numpy())\n",
    "    individual = [1, 0, 1]  # Selecciona las características 0 y 2\n",
    "    fitness = fitness_func(individual)\n",
    "    assert isinstance(fitness, tuple)  # Verifica que la función devuelva una tupla\n",
    "\n",
    "def test_configurar_algoritmo_genetico():\n",
    "    df = generar_dataframe_prueba()\n",
    "    X, y = separar_variables(df, 'Sales')\n",
    "    toolbox = configurar_algoritmo_genetico(X.shape[1])\n",
    "    assert toolbox.population(10)  # Verifica que se pueda crear una población\n",
    "\n",
    "def test_ejecutar_algoritmo_genetico():\n",
    "    df = generar_dataframe_prueba()\n",
    "    X, y = separar_variables(df, 'Sales')\n",
    "    pop, logbook = ejecutar_algoritmo_genetico(X.to_numpy(), y.to_numpy(), n_pop=10, n_gen=5)\n",
    "    assert len(pop) == 10  # Verifica que la población tenga el tamaño correcto\n",
    "    assert len(logbook) == 6  # Verifica que el logbook tenga el número correcto de generaciones\n",
    "\n",
    "def test_obtener_mejor_individuo():\n",
    "    df = generar_dataframe_prueba()\n",
    "    X, y = separar_variables(df, 'Sales')\n",
    "    pop, _ = ejecutar_algoritmo_genetico(X.to_numpy(), y.to_numpy(), n_pop=10, n_gen=5)\n",
    "    mejor_individuo = obtener_mejor_individuo(pop)\n",
    "    assert mejor_individuo is not None  # Verifica que se obtenga un mejor individuo\n",
    "\n",
    "def test_entrenar_modelo_final():\n",
    "    df = generar_dataframe_prueba()\n",
    "    X, y = separar_variables(df, 'Sales')\n",
    "    modelo, r2_train, r2_test = entrenar_modelo_final(X.to_numpy(), y.to_numpy(), selected_features=[0, 1], test_size=0.2)\n",
    "    assert modelo is not None  # Verifica que se entrene un modelo\n",
    "    assert r2_train >= 0  # Verifica que el R² en entrenamiento sea no negativo\n",
    "    assert r2_test >= 0  # Verifica que el R² en prueba sea no negativo\n",
    "\n",
    "def test_graficar_evolucion():\n",
    "    df = generar_dataframe_prueba()\n",
    "    X, y = separar_variables(df, 'Sales')\n",
    "    pop, logbook = ejecutar_algoritmo_genetico(X.to_numpy(), y.to_numpy(), n_pop=10, n_gen=5)\n",
    "    try:\n",
    "        graficar_evolucion(logbook)  # Verifica que no se produzca un error al graficar\n",
    "    except Exception as e:\n",
    "        assert False, f\"Error al graficar evolución: {e}\"\n",
    "\n",
    "def test_mostrar_caracteristicas_seleccionadas():\n",
    "    df = generar_dataframe_prueba()\n",
    "    X, y = separar_variables(df, 'Sales')\n",
    "    pop, logbook = ejecutar_algoritmo_genetico(X.to_numpy(), y.to_numpy(), n_pop=10, n_gen=5)\n",
    "    mejor_individuo = obtener_mejor_individuo(pop)\n",
    "    caracteristicas_seleccionadas, nombres_seleccionados = mostrar_caracteristicas_seleccionadas(mejor_individuo, COLUMNAS)\n",
    "    assert len(caracteristicas_seleccionadas) <= len(COLUMNAS)  # Verifica que no se seleccionen más características de las disponibles\n",
    "\n",
    "def test_analizar_outliers_multivariado():\n",
    "    df = generar_dataframe_prueba()\n",
    "    outliers, distancias = analizar_outliers_multivariado(df)\n",
    "    assert len(outliers) == df.shape[0]  # Verifica que el número de outliers coincida con el número de filas\n",
    "\n",
    "def test_probar_multiples_configuraciones():\n",
    "    df = generar_dataframe_prueba()\n",
    "    X, y = separar_variables(df, 'Sales')\n",
    "    configuraciones = [\n",
    "        {'n_pop': 10, 'cx_pb': 0.6, 'mut_pb': 0.1, 'n_gen': 5},\n",
    "        {'n_pop': 20, 'cx_pb': 0.7, 'mut_pb': 0.2, 'n_gen': 10}\n",
    "    ]\n",
    "    resultados = probar_multiples_configuraciones(X.to_numpy(), y.to_numpy(), configuraciones)\n",
    "    assert len(resultados) == len(configuraciones)  # Verifica que se devuelvan resultados para cada configuración\n"
   ]
  },
  {
   "cell_type": "code",
   "execution_count": 30,
   "id": "926efaf5",
   "metadata": {},
   "outputs": [
    {
     "name": "stdout",
     "output_type": "stream",
     "text": [
      "\u001b[1m============================= test session starts =============================\u001b[0m\n",
      "platform win32 -- Python 3.13.3, pytest-8.3.5, pluggy-1.5.0 -- C:\\Users\\AzShet\\AppData\\Local\\Programs\\Python\\Python313\\python.exe\n",
      "cachedir: .pytest_cache\n",
      "rootdir: c:\\TECSUP\\5-tecsup\\Mineria de Datos\\Semana (11)\\LAB_Ruelas\\tcp-md-laboratorio11\n",
      "plugins: anyio-4.9.0\n",
      "\u001b[1mcollecting ... \u001b[0mcollected 14 items\n",
      "\n",
      "test_utils.py::test_cargar_datos \u001b[32mPASSED\u001b[0m\u001b[32m                                  [  7%]\u001b[0m\n",
      "test_utils.py::test_tratar_outliers_iqr \u001b[32mPASSED\u001b[0m\u001b[32m                           [ 14%]\u001b[0m\n",
      "test_utils.py::test_escalar_datos \u001b[32mPASSED\u001b[0m\u001b[32m                                 [ 21%]\u001b[0m\n",
      "test_utils.py::test_separar_variables \u001b[32mPASSED\u001b[0m\u001b[32m                             [ 28%]\u001b[0m\n",
      "test_utils.py::test_convertir_a_numpy \u001b[32mPASSED\u001b[0m\u001b[32m                             [ 35%]\u001b[0m\n",
      "test_utils.py::test_crear_fitness_function \u001b[32mPASSED\u001b[0m\u001b[32m                        [ 42%]\u001b[0m\n",
      "test_utils.py::test_configurar_algoritmo_genetico \u001b[32mPASSED\u001b[0m\u001b[32m                 [ 50%]\u001b[0m\n",
      "test_utils.py::test_ejecutar_algoritmo_genetico \u001b[32mPASSED\u001b[0m\u001b[32m                   [ 57%]\u001b[0m\n",
      "test_utils.py::test_obtener_mejor_individuo \u001b[32mPASSED\u001b[0m\u001b[32m                       [ 64%]\u001b[0m\n",
      "test_utils.py::test_entrenar_modelo_final \u001b[32mPASSED\u001b[0m\u001b[32m                         [ 71%]\u001b[0m\n",
      "test_utils.py::test_graficar_evolucion \u001b[32mPASSED\u001b[0m\u001b[32m                            [ 78%]\u001b[0m\n",
      "test_utils.py::test_mostrar_caracteristicas_seleccionadas \u001b[32mPASSED\u001b[0m\u001b[32m         [ 85%]\u001b[0m\n",
      "test_utils.py::test_analizar_outliers_multivariado \u001b[32mPASSED\u001b[0m\u001b[32m                [ 92%]\u001b[0m\n",
      "test_utils.py::test_probar_multiples_configuraciones \u001b[32mPASSED\u001b[0m\u001b[32m              [100%]\u001b[0m\n",
      "\n",
      "\u001b[32m============================= \u001b[32m\u001b[1m14 passed\u001b[0m\u001b[32m in 19.17s\u001b[0m\u001b[32m =============================\u001b[0m\n"
     ]
    }
   ],
   "source": [
    "# Ejecutar pytest\n",
    "!pytest test_utils.py -v"
   ]
  }
 ],
 "metadata": {
  "kernelspec": {
   "display_name": ".venv",
   "language": "python",
   "name": "python3"
  },
  "language_info": {
   "codemirror_mode": {
    "name": "ipython",
    "version": 3
   },
   "file_extension": ".py",
   "mimetype": "text/x-python",
   "name": "python",
   "nbconvert_exporter": "python",
   "pygments_lexer": "ipython3",
   "version": "3.13.3"
  }
 },
 "nbformat": 4,
 "nbformat_minor": 5
}
